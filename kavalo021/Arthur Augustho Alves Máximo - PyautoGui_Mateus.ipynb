{
 "cells": [
  {
   "cell_type": "markdown",
   "id": "303341c3",
   "metadata": {},
   "source": [
    "### Abrindo o bloco de notas "
   ]
  },
  {
   "cell_type": "code",
   "execution_count": 2,
   "id": "a13e133d",
   "metadata": {},
   "outputs": [],
   "source": [
    "import pyautogui as aut "
   ]
  },
  {
   "cell_type": "code",
   "execution_count": 8,
   "id": "9d41eb22",
   "metadata": {},
   "outputs": [],
   "source": [
    "# estou importando o pyautogui e apelidando ele de aut\n",
    "import pyautogui as aut \n",
    "\n",
    "#pressiono a tecla de atalho win +r\n",
    "aut.hotkey(\"win\",\"r\")\n",
    "#escrever notepad\n",
    "aut.write(\"notepad\", interval=0.2)\n",
    "#espera 1 segundo\n",
    "aut.sleep(1)\n",
    "#aperta o Enter\n",
    "aut.press(\"Enter\")\n",
    "aut.sleep(1)\n",
    "aut.moveTo(79,150)\n",
    "aut.click()\n",
    "aut.sleep(1)\n",
    "aut.write(\"Professor Top\", interval =0.2)\n"
   ]
  },
  {
   "cell_type": "markdown",
   "id": "f4c920d3",
   "metadata": {},
   "source": [
    "### Pegando a posição do MOUSE"
   ]
  },
  {
   "cell_type": "code",
   "execution_count": null,
   "id": "50174243",
   "metadata": {},
   "outputs": [],
   "source": [
    "#Pega a informação do mouse                       \n",
    "aut.mouseInfo()\n"
   ]
  },
  {
   "cell_type": "markdown",
   "id": "029d9249",
   "metadata": {},
   "source": [
    "### Tentando Jogar o dinossauro"
   ]
  },
  {
   "cell_type": "code",
   "execution_count": null,
   "id": "b7e63929",
   "metadata": {},
   "outputs": [],
   "source": [
    "import pyautogui as aut\n",
    "\n",
    "link = \"chrome://dino\"\n",
    "\n",
    "aut.hotkey(\"win\",\"r\")\n",
    "aut.write(\"chrome\")\n",
    "aut.sleep(1)\n",
    "aut.press(\"Enter\")\n",
    "aut.write(link)\n",
    "aut.sleep(0.5)\n",
    "aut.press(\"Enter\")\n",
    "aut.sleep(3)  # Tempo para abrir o jogo (chrome://dino)\n",
    "aut.press(\"space\")\n",
    "\n",
    "while True:\n",
    "    aut.press(\"space\")"
   ]
  }
 ],
 "metadata": {
  "kernelspec": {
   "display_name": "Python 3",
   "language": "python",
   "name": "python3"
  },
  "language_info": {
   "codemirror_mode": {
    "name": "ipython",
    "version": 3
   },
   "file_extension": ".py",
   "mimetype": "text/x-python",
   "name": "python",
   "nbconvert_exporter": "python",
   "pygments_lexer": "ipython3",
   "version": "3.13.2"
  }
 },
 "nbformat": 4,
 "nbformat_minor": 5
}
