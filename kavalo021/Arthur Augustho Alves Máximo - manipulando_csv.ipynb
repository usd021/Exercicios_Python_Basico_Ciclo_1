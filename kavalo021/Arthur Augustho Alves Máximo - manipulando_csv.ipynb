{
 "cells": [
  {
   "cell_type": "markdown",
   "id": "cc9d55a6",
   "metadata": {},
   "source": [
    "# CSV"
   ]
  },
  {
   "cell_type": "markdown",
   "id": "fb590ec4",
   "metadata": {},
   "source": [
    "CSV (Comma-Separated Values) é um formato de arquivo de texto simples usado para armazenar dados em forma de tabela, onde:\n",
    "\n",
    "- Cada linha representa um registro.\n",
    "- Cada coluna é separada por vírgulas (ou outro delimitador).\n",
    "- Pode ser aberto por Excel, Google Sheets, pandas, etc."
   ]
  },
  {
   "cell_type": "markdown",
   "id": "2209e90f",
   "metadata": {},
   "source": [
    " Exemplo de conteúdo de um alunos.csv:\n",
    "\n",
    "nome,idade,curso<br>\n",
    "Maria,30,Python<br>\n",
    "João,25,Data Science<br>\n"
   ]
  },
  {
   "cell_type": "markdown",
   "id": "e9d29dd3",
   "metadata": {},
   "source": [
    "O módulo csv permite ler e escrever arquivos CSV facilmente. Ele oferece duas formas principais:\n",
    "\n",
    "- Usando listas com csv.reader() e csv.writer()\n",
    "- Usando dicionários com csv.DictReader() e csv.DictWriter()"
   ]
  },
  {
   "cell_type": "markdown",
   "id": "bddada35",
   "metadata": {},
   "source": [
    "# Principais métodos do módulo csv"
   ]
  },
  {
   "cell_type": "markdown",
   "id": "53a4e29c",
   "metadata": {},
   "source": [
    "| Método/Função      | Descrição                                           |\n",
    "| ------------------ | --------------------------------------------------- |\n",
    "| `csv.reader()`     | Lê linhas de um arquivo CSV como listas             |\n",
    "| `csv.writer()`     | Escreve listas como linhas em um arquivo CSV        |\n",
    "| `csv.DictReader()` | Lê o CSV como uma sequência de dicionários (`dict`) |\n",
    "| `csv.DictWriter()` | Escreve dicionários linha por linha em um CSV       |\n"
   ]
  },
  {
   "cell_type": "markdown",
   "id": "42f34bf9",
   "metadata": {},
   "source": [
    "Importando o módulo csv"
   ]
  },
  {
   "cell_type": "code",
   "execution_count": 34,
   "id": "8266b480",
   "metadata": {},
   "outputs": [],
   "source": [
    "import csv"
   ]
  },
  {
   "cell_type": "markdown",
   "id": "9795808c",
   "metadata": {},
   "source": [
    "## 1 - Criando um csv com csv.writer()"
   ]
  },
  {
   "cell_type": "code",
   "execution_count": 35,
   "id": "c39a117e",
   "metadata": {},
   "outputs": [],
   "source": [
    "dados = [\n",
    "    [\"nome\", \"idade\", \"curso\"],\n",
    "    [\"Maria\", 30, \"Python\"],\n",
    "    [\"João\", 25, \"Data Science\"]\n",
    "]\n",
    "\n",
    "# Abrimos o arquivo em modo escrita ('w'), com encoding e newline=''\n",
    "with open(\"alunos.csv\", \"w\", newline='', encoding=\"utf-8\") as arquivo:\n",
    "    \n",
    "    # Criamos o objeto 'writer', que é um ESCRITOR de arquivos CSV.\n",
    "    # Ele é responsável por transformar listas em linhas no arquivo CSV.\n",
    "    escritor = csv.writer(arquivo)\n",
    "    \n",
    "    # Escreve todas as linhas da lista 'dados' de uma vez, .writerows é um método do objeto escritor (writer)\n",
    "    escritor.writerows(dados)\n"
   ]
  },
  {
   "cell_type": "markdown",
   "id": "974c5d2e",
   "metadata": {},
   "source": [
    "⚠️ Observação sobre uso de newline='':\n",
    "\n",
    "Sempre use newline='' ao abrir o arquivo com open() para evitar quebras de linha duplicadas, principalmente no Windows."
   ]
  },
  {
   "cell_type": "markdown",
   "id": "d0079b24",
   "metadata": {},
   "source": [
    "##  2 - Lendo um CSV com csv.reader()"
   ]
  },
  {
   "cell_type": "code",
   "execution_count": null,
   "id": "d67af2ec",
   "metadata": {},
   "outputs": [],
   "source": [
    "# Abrimos o arquivo em modo leitura ('r'), com encoding e newline=''\n",
    "with open(\"alunos.csv\", \"r\", encoding=\"utf-8\") as arquivo:\n",
    "    \n",
    "    # O reader cria um objeto iterável que transforma cada linha do CSV em uma lista.\n",
    "    leitor = csv.reader(arquivo)\n",
    "    \n",
    "    for linha in leitor:\n",
    "        print(linha)\n"
   ]
  },
  {
   "cell_type": "markdown",
   "id": "da9d72ca",
   "metadata": {},
   "source": [
    "##  3 - Lendo como dicionário com csv.DictReader()"
   ]
  },
  {
   "cell_type": "code",
   "execution_count": null,
   "id": "271f97be",
   "metadata": {},
   "outputs": [],
   "source": [
    "# Abrimos o arquivo em modo leitura ('r'), com encoding e newline=''\n",
    "with open(\"alunos.csv\", \"r\", encoding=\"utf-8\") as arquivo:\n",
    "    \n",
    "    # DictReader transforma cada linha em um dicionário, usando o cabeçalho como chave.\n",
    "    leitor = csv.DictReader(arquivo)\n",
    "    \n",
    "    for linha in leitor:\n",
    "        print(linha)\n"
   ]
  },
  {
   "cell_type": "markdown",
   "id": "2f14c0d2",
   "metadata": {},
   "source": [
    "## 4 - Adicionando uma linha ao csv"
   ]
  },
  {
   "cell_type": "code",
   "execution_count": 38,
   "id": "aafb3d6c",
   "metadata": {},
   "outputs": [],
   "source": [
    "nova_linha = ['Fernanda', '27', 'Banco de Dados']\n",
    "\n",
    "# Abrimos o arquivo em modo leitura ('a') que permite adicionar uma nova informação sem substituir/apagar os dados salvos anteriormente, com encoding e newline=''\n",
    "with open(\"alunos.csv\", \"a\", newline='', encoding=\"utf-8\") as arquivo:\n",
    "    escritor = csv.writer(arquivo)\n",
    "    escritor.writerow(nova_linha)"
   ]
  },
  {
   "cell_type": "markdown",
   "id": "4a46b8c4",
   "metadata": {},
   "source": [
    "###  Importante!\n",
    "\n",
    "Os modos de gravação ('w') e ('a') são diferentes.\n",
    "- ('w') WRITE - Cria o arquivo se não existir. Se o arquivo existir, ele substitui TODA a informação presente nele pela nova.\n",
    "- ('a') APPEND - Não cria o arquivo. Apenas adiciona uma nova informação no fim, mantendo as informações anteriores."
   ]
  },
  {
   "cell_type": "markdown",
   "id": "23d0aa5b",
   "metadata": {},
   "source": [
    "# Exemplo Prático"
   ]
  },
  {
   "cell_type": "markdown",
   "id": "6aa2b2ca",
   "metadata": {},
   "source": [
    "## Cadastro de funcionários"
   ]
  },
  {
   "cell_type": "markdown",
   "id": "cda28d80",
   "metadata": {},
   "source": [
    "Neste exemplo criaremos o registro de funcionários de uma empresa.\n"
   ]
  },
  {
   "cell_type": "markdown",
   "id": "ad7276d3",
   "metadata": {},
   "source": [
    "O primeiro passo é criar o arquivo chamado \"funcionarios.csv\". Vamos utilizar a função open() com o nome que desejamos dar ao arquivo e o modo ('w') que permite criar o arquivo. As informações iniciais que iremos escrever no arquivo serão os nomes das colunas(cabeçalho), e os dados de 5 funcionários já existentes."
   ]
  },
  {
   "cell_type": "code",
   "execution_count": 1,
   "id": "60d1f6be",
   "metadata": {},
   "outputs": [],
   "source": [
    "import csv\n",
    "\n",
    "# Lista de listas. A primeira representa o cabeçalho(colunas). Cada uma das outras listas secundárias representam os dados de um funcionário\n",
    "funcionarios = [\n",
    "    [\"nome\", \"departamento\", \"cargo\", \"salario\"],\n",
    "    [\"Ana Silva\", \"Financeiro\", \"Analista\", 4500.00],\n",
    "    [\"Bruno Reis\",\"Tecnologia\", \"Desenvolvedor\", 6200.00],\n",
    "    [\"Clara Lima\",\"Recursos Humanos\", \"Coordenadora\", 5100.00],\n",
    "    [\"Daniel Souza\", \"Tecnologia\", \"Suporte Técnico\", 3700.00],\n",
    "    [\"Elaine Costa\", \"Marketing\", \"Designer\", 4800.00]\n",
    "]\n",
    "\n",
    "# Cria o arquivo no modo ('w')\n",
    "with open('funcionarios.csv', 'w', newline='', encoding='utf-8') as arquivo:\n",
    "    escritor = csv.writer(arquivo)\n",
    "    escritor.writerows(funcionarios) # .writerows() escreve no arquivo todas as linhas de uma vez"
   ]
  },
  {
   "cell_type": "markdown",
   "id": "3ed2be94",
   "metadata": {},
   "source": [
    "Lendo as informações do arquivo"
   ]
  },
  {
   "cell_type": "code",
   "execution_count": null,
   "id": "f30208c1",
   "metadata": {},
   "outputs": [],
   "source": [
    "# Abre o arquivo no modo leitura ('r')\n",
    "with open('funcionarios.csv', 'r', encoding='utf-8') as arquivo:\n",
    "    funcionarios = csv.reader(arquivo)\n",
    "    for i in funcionarios:\n",
    "        print(i)"
   ]
  },
  {
   "cell_type": "markdown",
   "id": "0102e6bd",
   "metadata": {},
   "source": [
    "O próximo passo é pedir ao usuário que informe as informações necessárias para o registro de um novo funcionário. Em seguida organizamos essas informações em uma lista, e utilizando o modo append ('a') junto com a função open(), acrescentamos essa nova linha no final do arquivo. \n",
    "\n",
    "NÃO SE ESQUEÇA de utilizar o parâmetro newline='', isso impedirá que o csv acrescente linhas vazias entre cada registro."
   ]
  },
  {
   "cell_type": "code",
   "execution_count": 41,
   "id": "4e0856b9",
   "metadata": {},
   "outputs": [],
   "source": [
    "nome = input('Nome do funcionário: ')\n",
    "departamento = input('Departamento: ')\n",
    "cargo = input('Cargo: ')\n",
    "salario = input('Salário: ')\n",
    "\n",
    "with open('funcionarios.csv', 'a', newline='', encoding='utf-8') as arquivo:\n",
    "    escritor = csv.writer(arquivo)\n",
    "    escritor.writerow([nome,departamento,cargo,salario])"
   ]
  },
  {
   "cell_type": "markdown",
   "id": "a2598d9c",
   "metadata": {},
   "source": [
    "# Bônus"
   ]
  },
  {
   "cell_type": "markdown",
   "id": "8d3abd83",
   "metadata": {},
   "source": [
    "Com a biblioteca Pandas é possível visualizar o arquivo csv realmente como uma tabela, parecida com excel, além de realizar diversas operações de manipulação e análise de dados. No código abaixo, vemos um exemplo simples de como visualizar o csv de uma maneira melhor."
   ]
  },
  {
   "cell_type": "code",
   "execution_count": 42,
   "id": "886f56a9",
   "metadata": {},
   "outputs": [
    {
     "data": {
      "text/html": [
       "<div>\n",
       "<style scoped>\n",
       "    .dataframe tbody tr th:only-of-type {\n",
       "        vertical-align: middle;\n",
       "    }\n",
       "\n",
       "    .dataframe tbody tr th {\n",
       "        vertical-align: top;\n",
       "    }\n",
       "\n",
       "    .dataframe thead th {\n",
       "        text-align: right;\n",
       "    }\n",
       "</style>\n",
       "<table border=\"1\" class=\"dataframe\">\n",
       "  <thead>\n",
       "    <tr style=\"text-align: right;\">\n",
       "      <th></th>\n",
       "      <th>nome</th>\n",
       "      <th>departamento</th>\n",
       "      <th>cargo</th>\n",
       "      <th>salario</th>\n",
       "    </tr>\n",
       "  </thead>\n",
       "  <tbody>\n",
       "    <tr>\n",
       "      <th>0</th>\n",
       "      <td>Ana Silva</td>\n",
       "      <td>Financeiro</td>\n",
       "      <td>Analista</td>\n",
       "      <td>4500.0</td>\n",
       "    </tr>\n",
       "    <tr>\n",
       "      <th>1</th>\n",
       "      <td>Bruno Reis</td>\n",
       "      <td>Tecnologia</td>\n",
       "      <td>Desenvolvedor</td>\n",
       "      <td>6200.0</td>\n",
       "    </tr>\n",
       "    <tr>\n",
       "      <th>2</th>\n",
       "      <td>Clara Lima</td>\n",
       "      <td>Recursos Humanos</td>\n",
       "      <td>Coordenadora</td>\n",
       "      <td>5100.0</td>\n",
       "    </tr>\n",
       "    <tr>\n",
       "      <th>3</th>\n",
       "      <td>Daniel Souza</td>\n",
       "      <td>Tecnologia</td>\n",
       "      <td>Suporte Técnico</td>\n",
       "      <td>3700.0</td>\n",
       "    </tr>\n",
       "    <tr>\n",
       "      <th>4</th>\n",
       "      <td>Elaine Costa</td>\n",
       "      <td>Marketing</td>\n",
       "      <td>Designer</td>\n",
       "      <td>4800.0</td>\n",
       "    </tr>\n",
       "    <tr>\n",
       "      <th>5</th>\n",
       "      <td>Johnny</td>\n",
       "      <td>Dados</td>\n",
       "      <td>Cientista</td>\n",
       "      <td>10000.0</td>\n",
       "    </tr>\n",
       "  </tbody>\n",
       "</table>\n",
       "</div>"
      ],
      "text/plain": [
       "           nome      departamento            cargo  salario\n",
       "0     Ana Silva        Financeiro         Analista   4500.0\n",
       "1    Bruno Reis        Tecnologia    Desenvolvedor   6200.0\n",
       "2    Clara Lima  Recursos Humanos     Coordenadora   5100.0\n",
       "3  Daniel Souza        Tecnologia  Suporte Técnico   3700.0\n",
       "4  Elaine Costa         Marketing         Designer   4800.0\n",
       "5        Johnny             Dados        Cientista  10000.0"
      ]
     },
     "execution_count": 42,
     "metadata": {},
     "output_type": "execute_result"
    }
   ],
   "source": [
    "import pandas as pd\n",
    "tabela = pd.read_csv('funcionarios.csv')\n",
    "tabela"
   ]
  },
  {
   "cell_type": "code",
   "execution_count": null,
   "id": "901550c4",
   "metadata": {},
   "outputs": [],
   "source": [
    "import pandas as pd\n",
    "tabela = pd.read_csv('Tabela_Clubes.csv', encoding= 'utf-8', sep=',')\n",
    "\n",
    "#tabela.info()\n",
    "colunas_deletadas = ['Unnamed: 13','Unnamed: 14','Unnamed: 15','Unnamed: 16']\n",
    "tabela.drop(axis=1, columns= colunas_deletadas, inplace= True )\n",
    "display(tabela)"
   ]
  }
 ],
 "metadata": {
  "kernelspec": {
   "display_name": ".venv",
   "language": "python",
   "name": "python3"
  },
  "language_info": {
   "codemirror_mode": {
    "name": "ipython",
    "version": 3
   },
   "file_extension": ".py",
   "mimetype": "text/x-python",
   "name": "python",
   "nbconvert_exporter": "python",
   "pygments_lexer": "ipython3",
   "version": "3.13.2"
  }
 },
 "nbformat": 4,
 "nbformat_minor": 5
}
