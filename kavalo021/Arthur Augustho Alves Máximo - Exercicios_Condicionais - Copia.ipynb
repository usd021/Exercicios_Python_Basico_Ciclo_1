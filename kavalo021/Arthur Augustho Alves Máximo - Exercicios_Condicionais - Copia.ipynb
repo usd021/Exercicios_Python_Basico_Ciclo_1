{
 "cells": [
  {
   "cell_type": "markdown",
   "id": "633160a3",
   "metadata": {},
   "source": [
    "### 📝Lista de Exercícios: Condicionais IF/ELSE"
   ]
  },
  {
   "cell_type": "markdown",
   "id": "605d2a7e",
   "metadata": {},
   "source": [
    "Exercício 1 - Maioridade 🔞\n",
    "\n",
    "Crie um programa que pergunta a idade do usuário e diz se ele é maior ou menor de idade."
   ]
  },
  {
   "cell_type": "code",
   "execution_count": 4,
   "id": "93ea230f",
   "metadata": {},
   "outputs": [
    {
     "name": "stdout",
     "output_type": "stream",
     "text": [
      "menor de idade\n"
     ]
    }
   ],
   "source": [
    "idade = int(input(\"Quantos anos você tem? \"))\n",
    "\n",
    "if idade >= 18:\n",
    "   print(\"maior de idade\")\n",
    "else:\n",
    "    print('menor de idade')\n"
   ]
  },
  {
   "cell_type": "markdown",
   "id": "6e9528f5",
   "metadata": {},
   "source": [
    "Exercício 2 - Aprovação na Prova 🧠\n",
    "\n",
    "Faça um programa que pergunte a nota de um aluno (0 a 10) e diz se ele foi aprovado(nota >= 5) ou reprovado (nota <5)."
   ]
  },
  {
   "cell_type": "code",
   "execution_count": 46,
   "id": "4a9f8f8b",
   "metadata": {},
   "outputs": [
    {
     "name": "stdout",
     "output_type": "stream",
     "text": [
      "aprovado\n"
     ]
    }
   ],
   "source": [
    "nota = float(input(\"Informe a sua nota de (0 a 10)\"))\n",
    "\n",
    "if nota >= 5:\n",
    "    print('aprovado')\n",
    "else: \n",
    "    print('reprovado')"
   ]
  },
  {
   "cell_type": "markdown",
   "id": "9f8e9b92",
   "metadata": {},
   "source": [
    "Exercicio 3 - CNH 🚘🚙\n",
    "\n",
    " 1º - Peça ao usuário que digite a idade dele.\n",
    "\n",
    " 2º - Peça pra ele dizer se foi aprovado ou reprovado no curso de cnh.\n",
    "\n",
    " 3º - Use if e else para verificar se ele tem 18 anos ou mais e se foi aprovado.\n",
    "\n",
    " 4º - Se as condições do passo 3 estiverem certas, print(\"pode dirigir\").\n",
    " \n",
    " 5º - Se não print(\"vai andar a pé\")"
   ]
  },
  {
   "cell_type": "code",
   "execution_count": 30,
   "id": "bee9f043",
   "metadata": {},
   "outputs": [
    {
     "name": "stdout",
     "output_type": "stream",
     "text": [
      "voce nao pode dirigir\n"
     ]
    }
   ],
   "source": [
    "idade = int(input(\"Quantos anos voce tem?\"))\n",
    "curso_cnh = input(\"voce pasou no cursso de cnh?\")\n",
    "\n",
    "if idade >=18 and cnh ==\"sim\":\n",
    "    print (\"voce pode dirigir?\")\n",
    "else:\n",
    "    print(\"voce nao pode dirigir\")\n"
   ]
  },
  {
   "cell_type": "markdown",
   "id": "e9c60d12",
   "metadata": {},
   "source": [
    "Exercício 4 - Calculadora de Desconto. 💵 🤑\n",
    "\n",
    "Uma loja dá 10% de desconto para compras acima de R$ 100,00. Faça um programa que:\n",
    "\n",
    "1º - Pergunta o valor da compra.\n",
    "\n",
    "2º - Calcula o valor final com desconto (se aplicável).\n",
    "\n",
    "3º - Mostra o valor a pagar."
   ]
  },
  {
   "cell_type": "code",
   "execution_count": 33,
   "id": "5edc8855",
   "metadata": {},
   "outputs": [
    {
     "name": "stdout",
     "output_type": "stream",
     "text": [
      "voce teve 10%de desconto ,compra abaixo de 100\n"
     ]
    }
   ],
   "source": [
    "compra = float(input(\"qual o valor da compra?\"))\n",
    "desconto = compra *0.10 \n",
    "valor_final = compra - desconto \n",
    "if compra >=100:\n",
    "    print(\"voce teve 10%de desconto ,compra abaixo de 100\")"
   ]
  },
  {
   "cell_type": "markdown",
   "id": "ec96b43c",
   "metadata": {},
   "source": [
    "Exercício 5 - Classificação de Notas 🧑‍🎓\n",
    "\n",
    "Pergunte a nota de um aluno e dependendo da nota que ele informar, o classifique de acordo com as regras abaixo:\n",
    "\n",
    "Classifique a nota do aluno:\n",
    "\n",
    "- 9 até 10: \"Excelente\"\n",
    "\n",
    "- 7 até 8.9: \"Bom\"\n",
    "\n",
    "- 5 até 6.9: \"Regular\"\n",
    "\n",
    "- 0 até 4.9: \"Reprovado\"\n",
    "\n",
    "mostre para o aluno a classificação dele através de um print, exemplo print(\"Excelente\")."
   ]
  },
  {
   "cell_type": "code",
   "execution_count": 64,
   "id": "465c6812",
   "metadata": {},
   "outputs": [
    {
     "name": "stdout",
     "output_type": "stream",
     "text": [
      "reprovado\n"
     ]
    }
   ],
   "source": [
    "nota = float(input(\"qual a sua nota ?:\"))\n",
    "\n",
    "if nota >=9 and nota <=10:\n",
    "    print(\"excelente\")\n",
    "elif  nota >=7 and nota <= 8.9:\n",
    "    print(\"bom\") \n",
    "elif nota >=5 and nota <= 6.9:\n",
    "    print(\"regular\")\n",
    "else:\n",
    "    print(\"reprovado\")\n"
   ]
  },
  {
   "cell_type": "markdown",
   "id": "251b0fa7",
   "metadata": {},
   "source": [
    "Exercício 6 - Acesso ao Sistema 🔑\n",
    "\n",
    "Crie um login simples:\n",
    "\n",
    "- usuario_correto = \"admin\"\n",
    "\n",
    "- senha_correta = \"1234\"\n",
    "\n",
    "**Peça para o usuário digitar primeiro o login e depois a senha, caso login e senha estejam corretos programa deve mostrar \"Acesso permitido\" se não \"Acesso negado\"**\n"
   ]
  },
  {
   "cell_type": "code",
   "execution_count": 81,
   "id": "7fcf16db",
   "metadata": {},
   "outputs": [
    {
     "name": "stdout",
     "output_type": "stream",
     "text": [
      "acesso negado\n"
     ]
    }
   ],
   "source": [
    "usuario_correto = \"admin\"\n",
    "senha_correta =1234 \n",
    "\n",
    "login = input(\"qual o seu login?\")\n",
    "senha = int(input(\"digite sua senha:\"))\n",
    "\n",
    "if login == usuario_correto and senha == senha_corrente :\n",
    "    print(f\"acesso permitido, bem vindo ao sistema{login}\")\n",
    "else:\n",
    "    print(\"acesso negado\")"
   ]
  },
  {
   "cell_type": "markdown",
   "id": "46c27406",
   "metadata": {},
   "source": [
    "Exercício 7 - Maior Número 📉\n",
    "\n",
    "Peça 3 números e mostre qual é o maior deles."
   ]
  },
  {
   "cell_type": "code",
   "execution_count": 5,
   "id": "916439ff",
   "metadata": {},
   "outputs": [
    {
     "name": "stdout",
     "output_type": "stream",
     "text": [
      "o maior numero é 3\n"
     ]
    }
   ],
   "source": [
    "numero1 = int(input(\"digite um numero : \"))\n",
    "numero2 = int(input(\"digite um numero : \"))\n",
    "numero3 = int(input(\"digite um numero : \"))\n",
    "\n",
    "if numero1 > numero2 and numero1 > numero3 : \n",
    "    print(f\"o maior é {numero1}\")\n",
    "elif numero2 > numero3 and numero2 > numero1:\n",
    "    print(f\"o maior numero é {numero2}\")\n",
    "else:\n",
    "    print(f\"o maior numero é {numero3}\")"
   ]
  },
  {
   "cell_type": "markdown",
   "id": "984fe0fe",
   "metadata": {},
   "source": [
    "Exercício 8 - Dia da Semana\n",
    "Peça um número de 1 a 7 e mostre o dia da semana correspondente: 📅\n",
    "\n",
    "- 1: Domingo\n",
    "\n",
    "- 2: Segunda\n",
    "\n",
    "- ... até 7: Sábado"
   ]
  },
  {
   "cell_type": "code",
   "execution_count": 6,
   "id": "f34c6fbf",
   "metadata": {},
   "outputs": [
    {
     "name": "stdout",
     "output_type": "stream",
     "text": [
      "o dia escolido foi domingo\n"
     ]
    }
   ],
   "source": [
    "if numero1 == 1:\n",
    "    print(\"o dia escolido foi domingo\")\n",
    "elif numero1 == 2:\n",
    "    print(\"o dia escolido foi segunda\")\n",
    "elif numero1 == 3: \n",
    "    print(\"o dia escolido foi terça\")\n",
    "elif numero1 == 4:\n",
    "    print(\"o dia escolido foi quarta\")\n",
    "elif numero1 == 5:\n",
    "    print(\"o dia escolido foi quinta\")\n",
    "elif numero1 == 6:\n",
    "    print(\"o numero escolido foi sexta\")\n",
    "elif numero1 == 7:\n",
    "    print(\"o numero escolido foi sabado\")"
   ]
  },
  {
   "cell_type": "markdown",
   "id": "f1f760b7",
   "metadata": {},
   "source": [
    "Exercício 9 - Calculadora Simples 📏📐\n",
    "\n",
    "- Faça uma calculadora que:\n",
    "\n",
    "- Pede dois números\n",
    "\n",
    "- Pede a operação (+, -, *, /)\n",
    "\n",
    "- Dependendo da operação mostre o resultado.\n",
    "\n"
   ]
  },
  {
   "cell_type": "code",
   "execution_count": 5,
   "id": "95c6ce03",
   "metadata": {},
   "outputs": [
    {
     "ename": "NameError",
     "evalue": "name 'numero2' is not defined",
     "output_type": "error",
     "traceback": [
      "\u001b[31m---------------------------------------------------------------------------\u001b[39m",
      "\u001b[31mNameError\u001b[39m                                 Traceback (most recent call last)",
      "\u001b[36mCell\u001b[39m\u001b[36m \u001b[39m\u001b[32mIn[5]\u001b[39m\u001b[32m, line 5\u001b[39m\n\u001b[32m      2\u001b[39m numero1 = \u001b[38;5;28mfloat\u001b[39m (\u001b[38;5;28minput\u001b[39m(\u001b[33m\"\u001b[39m\u001b[33mdigite um numero\u001b[39m\u001b[33m\"\u001b[39m))\n\u001b[32m      3\u001b[39m operaçao = \u001b[38;5;28minput\u001b[39m(\u001b[33m\"\u001b[39m\u001b[33mqual operaçao voce quer fazer\u001b[39m\u001b[33m\"\u001b[39m)\n\u001b[32m----> \u001b[39m\u001b[32m5\u001b[39m soma=numero1 + \u001b[43mnumero2\u001b[49m\n\u001b[32m      6\u001b[39m subtraçao = numero1 - numero2\n\u001b[32m      7\u001b[39m multiplicaçao = numero1 * numero2\n",
      "\u001b[31mNameError\u001b[39m: name 'numero2' is not defined"
     ]
    }
   ],
   "source": [
    "numero1 = float (input(\"digite um numero\"))\n",
    "numero1 = float (input(\"digite um numero\"))\n",
    "operaçao = input(\"qual operaçao voce quer fazer\")\n",
    "\n",
    "soma=numero1 + numero2\n",
    "subtraçao = numero1 - numero2\n",
    "multiplicaçao = numero1 * numero2\n",
    "divisao = numero2 / numero2\n",
    "if operaçao == \"+\":\n",
    "   print(f\"a soma dos dois numeros foi de {soma}\")\n",
    "elif operaçao ==\"-\":\n",
    "   print(f\"a subtraçao dos numeros fio de {subtraçao}\")\n",
    "elif operaçao == \"*\": \n",
    "   print(f\"multiplicaçao dos dois numeros foi {multiplicaçao}\")\n",
    "else:\n",
    "   print(F\"a subtraçao dos dois produtos foi divisao\")"
   ]
  },
  {
   "cell_type": "markdown",
   "id": "f39f6b73",
   "metadata": {},
   "source": [
    "Exercício 10 - Sistema de Multas 🚙🚘🧾\n",
    "\n",
    "\n",
    "- Velocidade máxima: 80 km/h 🚫\n",
    "\n",
    "- Até 80: \"Sem multa\"\n",
    "\n",
    "- 81-100: \"Multa leve\"\n",
    "\n",
    "- Acima de 100: \"Multa grave\""
   ]
  },
  {
   "cell_type": "code",
   "execution_count": 1,
   "id": "20fdc977",
   "metadata": {},
   "outputs": [
    {
     "name": "stdout",
     "output_type": "stream",
     "text": [
      "multa grave\n"
     ]
    }
   ],
   "source": [
    "velocidade = int (input(\"diga a velocidade em km/h\"))\n",
    "if velocidade <=80:\n",
    "    print(\"sem multa\")\n",
    "elif velocidade >= 81 and velocidade <=100:\n",
    "    print(\"ta leve\")\n",
    "else:\n",
    "    print(\"multa grave\")\n"
   ]
  }
 ],
 "metadata": {
  "kernelspec": {
   "display_name": "Python 3",
   "language": "python",
   "name": "python3"
  },
  "language_info": {
   "codemirror_mode": {
    "name": "ipython",
    "version": 3
   },
   "file_extension": ".py",
   "mimetype": "text/x-python",
   "name": "python",
   "nbconvert_exporter": "python",
   "pygments_lexer": "ipython3",
   "version": "3.13.2"
  }
 },
 "nbformat": 4,
 "nbformat_minor": 5
}
