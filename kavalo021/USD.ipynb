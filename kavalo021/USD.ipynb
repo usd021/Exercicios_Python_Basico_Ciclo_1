{
 "cells": [
  {
   "cell_type": "markdown",
   "id": "f211b138",
   "metadata": {},
   "source": [
    "### Minha Playlist\n"
   ]
  },
  {
   "cell_type": "code",
   "execution_count": 3,
   "id": "da7a4134",
   "metadata": {},
   "outputs": [
    {
     "name": "stdout",
     "output_type": "stream",
     "text": [
      "[]\n",
      "mc pipokinha mc oruan mc divertida forro boys\n"
     ]
    }
   ],
   "source": [
    "print(minhaplaylist)\n",
    "print(\"mc pipokinha\",\"mc oruan\",\"mc divertida\",\"forro boys\")"
   ]
  }
 ],
 "metadata": {
  "kernelspec": {
   "display_name": ".venv",
   "language": "python",
   "name": "python3"
  },
  "language_info": {
   "codemirror_mode": {
    "name": "ipython",
    "version": 3
   },
   "file_extension": ".py",
   "mimetype": "text/x-python",
   "name": "python",
   "nbconvert_exporter": "python",
   "pygments_lexer": "ipython3",
   "version": "3.13.2"
  }
 },
 "nbformat": 4,
 "nbformat_minor": 5
}
