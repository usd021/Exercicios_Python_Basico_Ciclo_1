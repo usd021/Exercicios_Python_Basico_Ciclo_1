{
 "cells": [
  {
   "cell_type": "code",
   "execution_count": 12,
   "id": "bff8c5eb",
   "metadata": {},
   "outputs": [],
   "source": [
    "import pyautogui as aut\n",
    "\n",
    "aut.hotkey(\"win\",\"r\")\n",
    "aut.write(\"notepad\", interval=0.7)\n",
    "aut.sleep(1)\n",
    "aut.press(\"Enter\")\n",
    "aut.sleep(1)\n",
    "aut.moveTo(141,201)\n",
    "aut.click()\n",
    "aut.sleep(1)\n",
    "aut.write(\"Professor Top\", interval =0.2)"
   ]
  },
  {
   "cell_type": "code",
   "execution_count": 11,
   "id": "3e343f38",
   "metadata": {},
   "outputs": [],
   "source": [
    "aut.mouseInfo()\n",
    "aut.moveTo(1066,523)"
   ]
  }
 ],
 "metadata": {
  "kernelspec": {
   "display_name": "Python 3",
   "language": "python",
   "name": "python3"
  },
  "language_info": {
   "codemirror_mode": {
    "name": "ipython",
    "version": 3
   },
   "file_extension": ".py",
   "mimetype": "text/x-python",
   "name": "python",
   "nbconvert_exporter": "python",
   "pygments_lexer": "ipython3",
   "version": "3.13.2"
  }
 },
 "nbformat": 4,
 "nbformat_minor": 5
}
