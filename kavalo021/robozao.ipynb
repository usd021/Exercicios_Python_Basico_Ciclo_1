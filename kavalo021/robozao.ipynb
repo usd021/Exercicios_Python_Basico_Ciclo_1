{
 "cells": [
  {
   "cell_type": "code",
   "execution_count": 8,
   "id": "d310e92e",
   "metadata": {},
   "outputs": [],
   "source": [
    "import pyautogui as aut"
   ]
  },
  {
   "cell_type": "code",
   "execution_count": 4,
   "id": "9b1e7218",
   "metadata": {},
   "outputs": [],
   "source": [
    "import pyautogui as aut\n",
    "\n",
    "aut.hotkey(\"win\",\"r\")\n",
    "aut.write(\"notepad\",interval=0.2)\n",
    "aut.sleep(1)\n",
    "aut.press(\"enter\")\n",
    "aut.sleep(1)\n",
    "aut.moveTo()\n",
    "aut.sleep(1)\n",
    "aut.click()\n",
    "aut.sleep(1.5)\n",
    "aut.write(\"o arthur é o melhor progamador\" , interval=0.2)\n"
   ]
  },
  {
   "cell_type": "code",
   "execution_count": null,
   "id": "2ece5ddf",
   "metadata": {},
   "outputs": [
    {
     "ename": "KeyboardInterrupt",
     "evalue": "",
     "output_type": "error",
     "traceback": [
      "\u001b[31m---------------------------------------------------------------------------\u001b[39m",
      "\u001b[31mKeyboardInterrupt\u001b[39m                         Traceback (most recent call last)",
      "\u001b[36mCell\u001b[39m\u001b[36m \u001b[39m\u001b[32mIn[26]\u001b[39m\u001b[32m, line 1\u001b[39m\n\u001b[32m----> \u001b[39m\u001b[32m1\u001b[39m \u001b[43maut\u001b[49m\u001b[43m.\u001b[49m\u001b[43mmouseInfo\u001b[49m\u001b[43m(\u001b[49m\u001b[43m)\u001b[49m\n",
      "\u001b[36mFile \u001b[39m\u001b[32m~\\AppData\\Roaming\\Python\\Python313\\site-packages\\pyautogui\\__init__.py:253\u001b[39m, in \u001b[36mmouseInfo\u001b[39m\u001b[34m()\u001b[39m\n\u001b[32m    248\u001b[39m \u001b[38;5;28;01mdef\u001b[39;00m\u001b[38;5;250m \u001b[39m\u001b[34mmouseInfo\u001b[39m():\n\u001b[32m    249\u001b[39m \u001b[38;5;250m    \u001b[39m\u001b[33;03m\"\"\"\u001b[39;00m\n\u001b[32m    250\u001b[39m \u001b[33;03m    Launches the MouseInfo app. This application provides mouse coordinate information which can be useful when\u001b[39;00m\n\u001b[32m    251\u001b[39m \u001b[33;03m    planning GUI automation tasks. This function blocks until the application is closed.\u001b[39;00m\n\u001b[32m    252\u001b[39m \u001b[33;03m    \"\"\"\u001b[39;00m\n\u001b[32m--> \u001b[39m\u001b[32m253\u001b[39m     \u001b[43mmouseinfo\u001b[49m\u001b[43m.\u001b[49m\u001b[43mMouseInfoWindow\u001b[49m\u001b[43m(\u001b[49m\u001b[43m)\u001b[49m\n",
      "\u001b[36mFile \u001b[39m\u001b[32m~\\AppData\\Roaming\\Python\\Python313\\site-packages\\mouseinfo\\__init__.py:878\u001b[39m, in \u001b[36mMouseInfoWindow.__init__\u001b[39m\u001b[34m(self)\u001b[39m\n\u001b[32m    875\u001b[39m \u001b[38;5;28mself\u001b[39m.root.update()\n\u001b[32m    877\u001b[39m \u001b[38;5;66;03m# Start the application:\u001b[39;00m\n\u001b[32m--> \u001b[39m\u001b[32m878\u001b[39m \u001b[38;5;28;43mself\u001b[39;49m\u001b[43m.\u001b[49m\u001b[43mroot\u001b[49m\u001b[43m.\u001b[49m\u001b[43mmainloop\u001b[49m\u001b[43m(\u001b[49m\u001b[43m)\u001b[49m\n\u001b[32m    880\u001b[39m \u001b[38;5;66;03m# Application has closed, set isRunning to False and cancel any \"after\" commands already queued:\u001b[39;00m\n\u001b[32m    881\u001b[39m \u001b[38;5;28mself\u001b[39m.root.after_cancel(\u001b[38;5;28mself\u001b[39m._updateMouseInfoJob)\n",
      "\u001b[36mFile \u001b[39m\u001b[32mc:\\Program Files\\Python313\\Lib\\tkinter\\__init__.py:1599\u001b[39m, in \u001b[36mMisc.mainloop\u001b[39m\u001b[34m(self, n)\u001b[39m\n\u001b[32m   1597\u001b[39m \u001b[38;5;28;01mdef\u001b[39;00m\u001b[38;5;250m \u001b[39m\u001b[34mmainloop\u001b[39m(\u001b[38;5;28mself\u001b[39m, n=\u001b[32m0\u001b[39m):\n\u001b[32m   1598\u001b[39m \u001b[38;5;250m    \u001b[39m\u001b[33;03m\"\"\"Call the mainloop of Tk.\"\"\"\u001b[39;00m\n\u001b[32m-> \u001b[39m\u001b[32m1599\u001b[39m     \u001b[38;5;28;43mself\u001b[39;49m\u001b[43m.\u001b[49m\u001b[43mtk\u001b[49m\u001b[43m.\u001b[49m\u001b[43mmainloop\u001b[49m\u001b[43m(\u001b[49m\u001b[43mn\u001b[49m\u001b[43m)\u001b[49m\n",
      "\u001b[31mKeyboardInterrupt\u001b[39m: "
     ]
    },
    {
     "ename": "",
     "evalue": "",
     "output_type": "error",
     "traceback": [
      "\u001b[1;31mO Kernel deu pane ao executar o código na célula atual ou em uma célula anterior. \n",
      "\u001b[1;31mAnalise o código nas células para identificar uma possível causa da pane. \n",
      "\u001b[1;31mClique <a href='https://aka.ms/vscodeJupyterKernelCrash'>aqui</a> para obter mais informações. \n",
      "\u001b[1;31mConsulte Jupyter <a href='command:jupyter.viewOutput'>log</a> para obter mais detalhes."
     ]
    }
   ],
   "source": [
    "aut.mouseInfo()"
   ]
  },
  {
   "cell_type": "code",
   "execution_count": null,
   "id": "a6f7c2ba",
   "metadata": {},
   "outputs": [],
   "source": [
    " #precione a tecla de atalho Win + r \n",
    " # -------- aut.write('batepad, interval=0.3)\n",
    "\n",
    "\n",
    "\n",
    " #digite o nome do navegador (por exemplo, \"chome\") e pressiona enter\n",
    "\n",
    " #digite diretamente a URL do video no Youtube\n",
    " #--------- aut.write(',interval=0.1')\n",
    " #--------- aut.press('enter')\n",
    " #--------- time.sleep(2) # aguarda o video carregar\n",
    "\n",
    " # prtessiona 'f' para tela cheia \n",
    " #------------ aut.press('f'\"arthur augustho alves maximo - exercicios_strings (1).ipynb\"_pause=\n",
    "\n",
    " #-------------------\n",
    "aut.hotkey('win')\n",
    "#espera 1 segundo \n",
    "aut.sleep(1)\n",
    "aut.write('chrome', interval=0.1)\n",
    "aut.press('enter')\n",
    "aut.sleep(1)\n",
    "aut.write('https://youtu.be/HNBCVM4KbUM?si=tBV74ijXouC6mKhN')\n",
    "aut.press('enter')\n",
    "\n"
   ]
  },
  {
   "cell_type": "code",
   "execution_count": null,
   "id": "7b6df582",
   "metadata": {},
   "outputs": [],
   "source": [
    " #precione a tecla de atalho Win + r \n",
    " # -------- aut.write('batepad, interval=0.3)\n",
    "\n",
    "\n",
    "\n",
    " #digite o nome do navegador (por exemplo, \"calculadora\") e pressiona enter\n",
    "\n",
    " #digite diretamente uma conta de soma de 10 + 10\n",
    " #--------- aut.write(',interval=0.1')\n",
    " #--------- aut.press('enter')\n",
    " #--------- time.sleep(2) # aguardar a resposta da conta \n",
    "\n",
    " # prtessiona 'f' para tela cheia \n",
    " #------------ aut.press('f'\"arthur augustho alves maximo - exercicios_strings (1).ipynb\"_pause=\n",
    "\n",
    " #-------------------\n",
    "aut.hotkey('win')\n",
    "#espera 1 segundo \n",
    "aut.sleep(1)\n",
    "aut.write('calculadora', interval=0.1)\n",
    "aut.press('enter')\n",
    "aut.sleep(1)\n",
    "\n",
    "aut.write(\"10 + 10\")\n",
    "aut.press('enter')"
   ]
  },
  {
   "cell_type": "code",
   "execution_count": 19,
   "id": "7911573c",
   "metadata": {},
   "outputs": [],
   "source": [
    " #precione a tecla de atalho Win + r \n",
    " # -------- aut.write('batepad, interval=0.3)\n",
    "\n",
    " #digite o nome do navegador (por exemplo, \"chome\") e pressiona enter\n",
    "\n",
    " #digite diretamente  google sala de aula \n",
    " #--------- aut.write(',interval=0.1')\n",
    " #--------- aut.press('enter')\n",
    " #--------- time.sleep(2) # esperar entrada \n",
    "\n",
    " # prtessiona 'f' para tela cheia \n",
    " #------------ aut.pre\n",
    " # \n",
    " # ss('f'\"arthur augustho alves maximo - exercicios_strings (1).ipynb\"_pause=\n",
    "\n",
    " #-------------------\n",
    "aut.hotkey('win')\n",
    "#espera 1 segundo \n",
    "aut.sleep(1)\n",
    "aut.write('chrome', interval=0.1)\n",
    "aut.press('enter')\n",
    "aut.sleep(3)\n",
    "aut.press('enter')\n",
    "aut.sleep(3)\n",
    "aut.press('https://classroom.google.com/c/NzAwNTU0Njc2MzY3')\n",
    "aut.sleep(3)\n",
    "aut.moveTo(786,569)\n",
    "aut.click()\n",
    "aut.sleep(3)\n",
    "aut.moveTo\n",
    "aut.press('enter')\n",
    "aut.sleep(3)\n",
    "aut.write(\"\")\n",
    "aut.press('enter')"
   ]
  },
  {
   "cell_type": "code",
   "execution_count": 25,
   "id": "1b25e8c6",
   "metadata": {},
   "outputs": [],
   "source": [
    "\n",
    "import pyautogui as aut\n",
    " # Faça o código\n",
    "aut.hotkey('win')\n",
    "# Colocando as variaveis e etc...\n",
    "aut.write('chrome', interval=0.1)\n",
    "aut.sleep(1)\n",
    "aut.press('Enter')\n",
    "aut.sleep(0.7)\n",
    " # Faça com que a programação de Enter\n",
    "aut.write('https://classroom.google.com/c/NzAwNTU0Njc2MzY3') \n",
    "aut.sleep(3) \n",
    "aut.press('Enter') \n",
    "aut.moveTo(1225,619) \n",
    "aut.sleep(3) \n",
    "aut.click() \n",
    "aut.moveTo(1514,250)\n",
    "aut.sleep(3) \n",
    "aut.click() \n",
    "aut.moveTo(964,562) \n",
    "aut.sleep(3) \n",
    "aut.click() \n",
    "aut.hotkey('win') \n",
    "aut.write('Explorador de Arquivos', interval=0.1)\n",
    "aut.press('Enter') \n",
    "aut.moveTo(106,311) \n",
    "aut.sleep(3) \n",
    "aut.click() \n",
    "aut.moveTo(485,195)\n",
    "aut.sleep(3)  \n",
    "aut.click() \n",
    "aut.hotkey('ctlr' , 'x') \n",
    "aut.moveTo(91,280) \n",
    "aut.sleep(3) \n",
    "aut.click() \n",
    "aut.moveTo(307,172) \n",
    "aut.sleep(3) \n",
    "aut.click() \n",
    "aut.press('Enter') \n",
    "aut.sleep(1) \n",
    "aut.hotkey('ctrl' , 'v')"
   ]
  }
 ],
 "metadata": {
  "kernelspec": {
   "display_name": "Python 3",
   "language": "python",
   "name": "python3"
  },
  "language_info": {
   "codemirror_mode": {
    "name": "ipython",
    "version": 3
   },
   "file_extension": ".py",
   "mimetype": "text/x-python",
   "name": "python",
   "nbconvert_exporter": "python",
   "pygments_lexer": "ipython3",
   "version": "3.13.2"
  }
 },
 "nbformat": 4,
 "nbformat_minor": 5
}
